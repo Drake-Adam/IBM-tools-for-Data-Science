{
  "nbformat": 4,
  "nbformat_minor": 0,
  "metadata": {
    "colab": {
      "provenance": [],
      "authorship_tag": "ABX9TyP/w1kYJlZeh+6NdREmw13N",
      "include_colab_link": true
    },
    "kernelspec": {
      "name": "python3",
      "display_name": "Python 3"
    },
    "language_info": {
      "name": "python"
    }
  },
  "cells": [
    {
      "cell_type": "markdown",
      "metadata": {
        "id": "view-in-github",
        "colab_type": "text"
      },
      "source": [
        "<a href=\"https://colab.research.google.com/github/Drake-Adam/IBM-tools-for-Data-Science/blob/main/DataScienceEcosystem.ipynb\" target=\"_parent\"><img src=\"https://colab.research.google.com/assets/colab-badge.svg\" alt=\"Open In Colab\"/></a>"
      ]
    },
    {
      "cell_type": "markdown",
      "source": [
        "<h1>Data Science Tools and Ecosystem<h1>\n"
      ],
      "metadata": {
        "id": "0MIi88dcyDJC"
      }
    },
    {
      "cell_type": "markdown",
      "source": [
        "In this notebook, Data Science Tools and Ecosystem are summarized."
      ],
      "metadata": {
        "id": "TZ-tfVHUzDoG"
      }
    },
    {
      "cell_type": "markdown",
      "source": [
        "Some of the popular languages that Data Scientists use are:\n",
        "1. Python\n",
        "2. R\n",
        "3. SQL"
      ],
      "metadata": {
        "id": "csKay5nIzlCP"
      }
    },
    {
      "cell_type": "markdown",
      "source": [
        "Some of the commonly used libraries used by Data Scientists include:\n",
        "1. Pandas\n",
        "2. NumPy\n",
        "3. MatplotLib\n",
        "4. Tensor-Flow"
      ],
      "metadata": {
        "id": "n3LJUkeC0-Wo"
      }
    },
    {
      "cell_type": "markdown",
      "source": [
        "Data Science Tools |\n",
        "-------------------|\n",
        "Jupiter Notebooks  |\n",
        "R Studio           |\n",
        "Visual Studio      |\n",
        "\n",
        "\n"
      ],
      "metadata": {
        "id": "DF26fj4n1g98"
      }
    },
    {
      "cell_type": "markdown",
      "source": [
        "<h3>Below are a few examples of evaluating arithmetic expressions in Python<h3>"
      ],
      "metadata": {
        "id": "_5EccWMBYSeQ"
      }
    },
    {
      "cell_type": "code",
      "source": [
        "#This a simple arithmetic expression to mutiply then add integers\n",
        "\n",
        "(3*4)+5"
      ],
      "metadata": {
        "colab": {
          "base_uri": "https://localhost:8080/"
        },
        "id": "DaB5CzMVYt8s",
        "outputId": "64e54fb3-4da5-4ad6-c02d-1af9109420cd"
      },
      "execution_count": 2,
      "outputs": [
        {
          "output_type": "execute_result",
          "data": {
            "text/plain": [
              "17"
            ]
          },
          "metadata": {},
          "execution_count": 2
        }
      ]
    },
    {
      "cell_type": "code",
      "source": [
        "#This will convert 200 minutes to hours by diving by 60\n",
        "\n",
        "200 / 60"
      ],
      "metadata": {
        "colab": {
          "base_uri": "https://localhost:8080/"
        },
        "id": "veFUoFpKaxh-",
        "outputId": "92c20a44-58b5-4afb-8c63-124556a2541b"
      },
      "execution_count": 3,
      "outputs": [
        {
          "output_type": "execute_result",
          "data": {
            "text/plain": [
              "3.3333333333333335"
            ]
          },
          "metadata": {},
          "execution_count": 3
        }
      ]
    },
    {
      "cell_type": "markdown",
      "source": [
        "**Objectives:**\n",
        "\n",
        "* List popular languages for Data Science\n",
        "* List commonly used libraries for data science\n",
        "* Make a table containing commonly used data science tools\n",
        "* Use markdown and code cells\n",
        "* Evaluate arithmetic expressions"
      ],
      "metadata": {
        "id": "ssq9gb-dbUAr"
      }
    },
    {
      "cell_type": "markdown",
      "source": [
        "<h2>Author<h2>\n",
        "\n",
        "Adam Drake"
      ],
      "metadata": {
        "id": "Q7MiJVF5cU12"
      }
    }
  ]
}